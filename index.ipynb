{
 "cells": [
  {
   "cell_type": "markdown",
   "metadata": {},
   "source": [
    "# Representing Data as Matrices\n",
    "\n",
    "![](./images/Matrix.svg.png)"
   ]
  },
  {
   "cell_type": "markdown",
   "metadata": {},
   "source": [
    "### Numpy and Matrices\n",
    "The numpy package will provide you a great toolbox of optimized mathematical operations including the numpy array, the most convenient way to store vector and matrix data for computation. Here, we'll look at some basic operations in numpy."
   ]
  },
  {
   "cell_type": "code",
   "execution_count": 1,
   "metadata": {},
   "outputs": [],
   "source": [
    "import numpy as np"
   ]
  },
  {
   "cell_type": "code",
   "execution_count": 3,
   "metadata": {},
   "outputs": [
    {
     "name": "stdout",
     "output_type": "stream",
     "text": [
      "A: [[8 1 5 3]\n",
      " [8 6 0 5]\n",
      " [4 6 6 2]]\n",
      "\n",
      "\n",
      "B: [[8 8 0 8]\n",
      " [0 3 3 5]\n",
      " [8 9 9 3]]\n",
      "\n",
      "\n",
      "\n",
      "x: [ 0.33200067  2.21259906 -1.35460712 -1.23272899]\n",
      "\n",
      "\n",
      "\n",
      "y: [-0.21388341 -0.18904851  0.50919717 -0.66742028  0.45703783]\n"
     ]
    }
   ],
   "source": [
    "A = np.array([np.random.randint(0,10) for i in range(12)]).reshape((3,4)) #Create a 3x4 matrix with random integers 0-9\n",
    "B = np.array([np.random.randint(0,10) for i in range(12)]).reshape((3,4)) #Create a 3x4 matrix with random integers 0-9\n",
    "\n",
    "x = np.random.randn(4) #An array of 4 samples from the standard normal distribution\n",
    "y = np.random.randn(5) #An array of 5 samples from the standard normal distribution\n",
    "\n",
    "print('A: {}'.format(A))\n",
    "print('\\n')\n",
    "print('B: {}'.format(B))\n",
    "\n",
    "print('\\n\\n')\n",
    "print('x: {}'.format(x))\n",
    "print('\\n\\n')\n",
    "print('y: {}'.format(y))"
   ]
  },
  {
   "cell_type": "code",
   "execution_count": 4,
   "metadata": {},
   "outputs": [
    {
     "name": "stdout",
     "output_type": "stream",
     "text": [
      "A+B:\n",
      " [[16  9  5 11]\n",
      " [ 8  9  3 10]\n",
      " [12 15 15  5]] \n",
      "\n",
      "\n",
      "A-B:\n",
      " [[ 0 -7  5 -5]\n",
      " [ 8  3 -3  0]\n",
      " [-4 -3 -3 -1]] \n",
      "\n",
      "\n",
      "Be careful! This is not standard matrix multiplication!\n",
      "A*B:\n",
      " [[64  8  0 24]\n",
      " [ 0 18  0 25]\n",
      " [32 54 54  6]] \n",
      "\n",
      "\n",
      "A/B:\n",
      " [[1.         0.125             inf 0.375     ]\n",
      " [       inf 2.         0.         1.        ]\n",
      " [0.5        0.66666667 0.66666667 0.66666667]] \n",
      "\n",
      "\n",
      "A*x:\n",
      " [[ 2.65600539  2.21259906 -6.77303562 -3.69818698]\n",
      " [ 2.65600539 13.27559436 -0.         -6.16364497]\n",
      " [ 1.3280027  13.27559436 -8.12764274 -2.46545799]] \n",
      "\n",
      "\n",
      "A.T:\n",
      " [[8 8 4]\n",
      " [1 6 6]\n",
      " [5 0 6]\n",
      " [3 5 2]] \n",
      "\n",
      "\n",
      "x.T:\n",
      " [ 0.33200067  2.21259906 -1.35460712 -1.23272899] \n",
      "\n",
      "\n"
     ]
    },
    {
     "name": "stderr",
     "output_type": "stream",
     "text": [
      "/Users/SamLiebman/anaconda3/lib/python3.6/site-packages/ipykernel_launcher.py:5: RuntimeWarning: divide by zero encountered in true_divide\n",
      "  \"\"\"\n"
     ]
    }
   ],
   "source": [
    "print('A+B:\\n', A+B, '\\n\\n') # matrix addition\n",
    "print('A-B:\\n', A-B, '\\n\\n') # matrix subtraction\n",
    "print('Be careful! This is not standard matrix multiplication!')\n",
    "print('A*B:\\n', A*B, '\\n\\n') # ELEMENTWISE multiplication\n",
    "print('A/B:\\n', A/B, '\\n\\n') # ELEMENTWISE division\n",
    "\n",
    "\n",
    "print('A*x:\\n', A*x, '\\n\\n') # multiply columns by x\n",
    "print('A.T:\\n', A.T, '\\n\\n') # transpose (just changes row/column ordering)\n",
    "print('x.T:\\n', x.T, '\\n\\n') # does nothing (can't transpose 1D array)"
   ]
  },
  {
   "cell_type": "markdown",
   "metadata": {},
   "source": [
    "### 1. Generating Test Data\n",
    "Generate two matrices of random data, A and B.  \n",
    "Make matrix A a 3x4 matrix, and make B 4x4 matrix. Print both.\n",
    "\n",
    "Calculate and print the following:\n",
    "* $A^T$\n",
    "* $B^T$\n",
    "* AB\n",
    "* $AB^T$\n",
    "* $BA^T$"
   ]
  },
  {
   "cell_type": "code",
   "execution_count": 8,
   "metadata": {},
   "outputs": [
    {
     "name": "stdout",
     "output_type": "stream",
     "text": [
      "A : [[1 7 5 5]\n",
      " [7 3 1 5]\n",
      " [7 1 9 1]]\n",
      "B : [[4 5 7 6]\n",
      " [6 7 5 9]\n",
      " [3 2 1 8]\n",
      " [1 8 2 1]]\n"
     ]
    }
   ],
   "source": [
    "A = np.array([np.random.randint(0,10) for i in range(12)]).reshape(3,4) #Your code goes here\n",
    "B = np.array([np.random.randint(0,10) for i in range(16)]).reshape(4,4) #Your code goes here\n",
    "print('A :', A)\n",
    "print('B :', B)"
   ]
  },
  {
   "cell_type": "code",
   "execution_count": 9,
   "metadata": {},
   "outputs": [
    {
     "name": "stdout",
     "output_type": "stream",
     "text": [
      "Transpose of B: [[4 6 3 1]\n",
      " [5 7 2 8]\n",
      " [7 5 1 2]\n",
      " [6 9 8 1]]\n"
     ]
    }
   ],
   "source": [
    "transpose_of_b = B.T#Your answer goes here\n",
    "print('Transpose of B: {}'.format(transpose_of_b))"
   ]
  },
  {
   "cell_type": "code",
   "execution_count": 17,
   "metadata": {},
   "outputs": [
    {
     "name": "stdout",
     "output_type": "stream",
     "text": [
      "AB: [[ 66 104  57 114]\n",
      " [ 54  98  75  82]\n",
      " [ 62  68  65 124]]\n",
      "AB^T: [[104 125  62  72]\n",
      " [ 80 113  68  38]\n",
      " [102 103  40  34]]\n",
      "BA^T: [[104  80 102]\n",
      " [125 113 103]\n",
      " [ 62  68  40]\n",
      " [ 72  38  34]]\n"
     ]
    }
   ],
   "source": [
    "print('AB:', np.matmul(A,B) ) #Your code goes here\n",
    "print('AB^T:',np.matmul(A,B.T)) #Your code goes here\n",
    "print('BA^T:',np.matmul(B,A.T)) #Your code goes here"
   ]
  },
  {
   "cell_type": "markdown",
   "metadata": {},
   "source": [
    "#### 2. Describe what happens when you take the transpose of a matrix."
   ]
  },
  {
   "cell_type": "markdown",
   "metadata": {},
   "source": [
    "Describe the transpose of a matrix here. Orientation is swapped. Rows become columns and columns become rows"
   ]
  },
  {
   "cell_type": "markdown",
   "metadata": {},
   "source": [
    "### Systems of Equations\n",
    "If you recall from your earlier life as a algebra student:\n",
    "\n",
    "$2x +10 = 18$ has a unique solution; one variable, one equation, one solution\n",
    "\n",
    "Similarly, two variables with two equations has one solution*   \n",
    "$x+y=4$  \n",
    "$2x+2y=10$\n",
    "\n",
    "However, if we allow 2 variables with only 1 equation, we can have infinite solutions.\n",
    "$x+y=4$\n",
    "\n",
    "*(An inconsistent system will have no solution and a system where the second equation is a multiple of the first will have infinite solutions)"
   ]
  },
  {
   "cell_type": "markdown",
   "metadata": {},
   "source": [
    "### 3. Representing Data as Matrices"
   ]
  },
  {
   "cell_type": "markdown",
   "metadata": {},
   "source": [
    "#### A. Write a Matrix to represent this system:   \n",
    "$x+y=4$  \n",
    "$2x+2y=10$"
   ]
  },
  {
   "cell_type": "code",
   "execution_count": 22,
   "metadata": {},
   "outputs": [
    {
     "data": {
      "text/plain": [
       "array([[ 1,  1,  4],\n",
       "       [ 2,  2, 10]])"
      ]
     },
     "execution_count": 22,
     "metadata": {},
     "output_type": "execute_result"
    }
   ],
   "source": [
    "#Your matrix goes here\n",
    "A = np.array([[1,1,4],[2,2,10]])\n",
    "A"
   ]
  },
  {
   "cell_type": "markdown",
   "metadata": {},
   "source": [
    "#### B. Multiply your matrix by 3. What is the resulting system of equations? "
   ]
  },
  {
   "cell_type": "code",
   "execution_count": 24,
   "metadata": {},
   "outputs": [
    {
     "data": {
      "text/plain": [
       "array([[ 3,  3, 12],\n",
       "       [ 6,  6, 30]])"
      ]
     },
     "execution_count": 24,
     "metadata": {},
     "output_type": "execute_result"
    }
   ],
   "source": [
    "A*3   #Multiplying Matrix Here"
   ]
  },
  {
   "cell_type": "markdown",
   "metadata": {},
   "source": [
    "## Write the resulting system here  \n",
    "$3x+3y=12$  \n",
    "$6x+6y=30$"
   ]
  },
  {
   "cell_type": "markdown",
   "metadata": {},
   "source": [
    "### The Identity Matrix\n",
    "The identity Matrix has ones running along the diagonal, and zeros everywhere else.\n",
    "You can create an identity matrix of any given size by calling the built in numpy method:\n",
    "numpy.identity(n) where n is the dimension of the desired matrix."
   ]
  },
  {
   "cell_type": "code",
   "execution_count": 27,
   "metadata": {
    "scrolled": true
   },
   "outputs": [
    {
     "data": {
      "text/plain": [
       "array([[1., 0., 0., 0., 0.],\n",
       "       [0., 1., 0., 0., 0.],\n",
       "       [0., 0., 1., 0., 0.],\n",
       "       [0., 0., 0., 1., 0.],\n",
       "       [0., 0., 0., 0., 1.]])"
      ]
     },
     "execution_count": 27,
     "metadata": {},
     "output_type": "execute_result"
    }
   ],
   "source": [
    "np.identity(5)"
   ]
  },
  {
   "cell_type": "markdown",
   "metadata": {},
   "source": [
    "### 4. Multiply a matrix by the identity matrix. What do you notice? Explain why this happens."
   ]
  },
  {
   "cell_type": "code",
   "execution_count": 38,
   "metadata": {},
   "outputs": [
    {
     "data": {
      "text/plain": [
       "array([[ 1.,  1.,  4.],\n",
       "       [ 2.,  2., 10.]])"
      ]
     },
     "execution_count": 38,
     "metadata": {},
     "output_type": "execute_result"
    }
   ],
   "source": [
    "#Multiply a matrix by the identity matrix here.\n",
    "np.matmul(np.identity(2),A)"
   ]
  },
  {
   "cell_type": "code",
   "execution_count": 39,
   "metadata": {},
   "outputs": [
    {
     "data": {
      "text/plain": [
       "array([[ 1,  1,  4],\n",
       "       [ 2,  2, 10]])"
      ]
     },
     "execution_count": 39,
     "metadata": {},
     "output_type": "execute_result"
    }
   ],
   "source": [
    "A"
   ]
  },
  {
   "cell_type": "markdown",
   "metadata": {},
   "source": [
    "#Write your observations and explanation here."
   ]
  },
  {
   "cell_type": "code",
   "execution_count": null,
   "metadata": {},
   "outputs": [],
   "source": [
    "the value of the matrix doesnt change"
   ]
  }
 ],
 "metadata": {
  "kernelspec": {
   "display_name": "Python 3",
   "language": "python",
   "name": "python3"
  },
  "language_info": {
   "codemirror_mode": {
    "name": "ipython",
    "version": 3
   },
   "file_extension": ".py",
   "mimetype": "text/x-python",
   "name": "python",
   "nbconvert_exporter": "python",
   "pygments_lexer": "ipython3",
   "version": "3.6.4"
  }
 },
 "nbformat": 4,
 "nbformat_minor": 2
}
